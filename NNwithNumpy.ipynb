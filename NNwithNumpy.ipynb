{
 "cells": [
  {
   "cell_type": "code",
   "execution_count": 36,
   "metadata": {},
   "outputs": [],
   "source": [
    "import numpy as np\n"
   ]
  },
  {
   "cell_type": "code",
   "execution_count": 68,
   "metadata": {},
   "outputs": [],
   "source": [
    "class Net:\n",
    "    def __init__(self, topology):\n",
    "        self.numLayers     = len(topology)\n",
    "        self.learning_rate = 0.1\n",
    "        \n",
    "        self.W1 = np.random.rand(2, 2)\n",
    "        self.W2 = np.random.rand(1,2) \n",
    "        \n",
    "        self.bW1 = np.random.rand(1, 2) \n",
    "        self.bW2 = np.random.rand(1, 1) \n",
    "            \n",
    "    def _sigmoid(self, x):\n",
    "        return 1/(1 + np.exp(-x))\n",
    "    \n",
    "    def _sigmoid_deriv(self, x):\n",
    "        return self._sigmoid(x) * (1 - self._sigmoid(x))\n",
    "    \n",
    "    \n",
    "    def feedForward(self, input_vectors):\n",
    "        self.Z1 = np.matmul(input_vectors, self.W1) + self.bW1 \n",
    "        self.A1 = self._sigmoid(self.Z1)\n",
    "        self.Z2 = np.matmul(self.A1, self.W2.T) + self.bW2 \n",
    "        self.A2 = self.Z2 \n",
    "        return self.A2\n",
    "        \n",
    "    def backProp(self, input_vectors, target):\n",
    "        dC_dA2 = self.A2 - target \n",
    "        dC_dZ2 = dC_dA2 * self._sigmoid_deriv(self.Z2)\n",
    "        \n",
    "        dC_dW2 = dC_dZ2 * self.A1\n",
    "        dC_dW1 = dC_dZ2 * self.W2 * self._sigmoid_deriv(self.Z1)* input_vectors\n",
    "        \n",
    "        dW2       = dC_dW2\n",
    "        dW1       = dC_dW1\n",
    "        db2       = np.sum(dC_dA2 * self._sigmoid_deriv(self.Z2))\n",
    "        db1       = np.sum(dC_dA2 * self._sigmoid_deriv(self.Z2) * self.W2 * self._sigmoid_deriv(self.Z1))\n",
    "        \n",
    "        return dW1, dW2, db1, db2\n",
    "        \n",
    "    def update_params(self, input_vectors, target, dW1, db1, dW2, db2):    \n",
    "        #updates\n",
    "        #adjust the weights\n",
    "        self.W1 = self.W1 - self.learning_rate * dW1\n",
    "        self.W2 = self.W2 - self.learning_rate * dW2\n",
    "        \n",
    "        self.bW1 = self.bW1 - self.learning_rate * db1\n",
    "        self.bW2 = self.bW2 - self.learning_rate * db2\n",
    "\n",
    "        \n",
    "    #to train the network\n",
    "    def train(self, input_vectors, targets, iterations):\n",
    "        error_vals = []\n",
    "        for current_iteration in range(iterations):\n",
    "            #pick a data instance at random\n",
    "            random_data_index = np.random.randint(len(input_vectors))\n",
    "            \n",
    "            input_vector = input_vectors[random_data_index]\n",
    "            target = targets[random_data_index]\n",
    "            \n",
    "            out = self.feedForward(input_vector)\n",
    "        \n",
    "            dW1, dW2, db1, db2 = self.backProp(input_vector, target)\n",
    "            \n",
    "            self.update_params(input_vector, target, dW1, db1, dW2, db2)\n",
    "            \n",
    "            error = np.square(out - target)\n",
    "            if current_iteration % 100 == 0:\n",
    "\n",
    "                    #print(error)\n",
    "                    error_vals = np.append(error_vals, error)\n",
    "    \n",
    "        return error_vals\n",
    "            \n"
   ]
  },
  {
   "cell_type": "code",
   "execution_count": 74,
   "metadata": {},
   "outputs": [
    {
     "data": {
      "text/plain": [
       "[<matplotlib.lines.Line2D at 0x9af89c8>]"
      ]
     },
     "execution_count": 74,
     "metadata": {},
     "output_type": "execute_result"
    },
    {
     "data": {
      "image/png": "[encoded data removed]",
      "text/plain": [
       "<Figure size 432x288 with 1 Axes>"
      ]
     },
     "metadata": {
      "needs_background": "light"
     },
     "output_type": "display_data"
    }
   ],
   "source": [
    "import matplotlib.pyplot as plt\n",
    "topo = [2, 2, 1] \n",
    "\n",
    "input_vectors = np.array(\n",
    "[\n",
    "    [3, 1.5],\n",
    "    [2, 11],\n",
    "    [4, 1.5],\n",
    "    [13, 14],\n",
    "    [3.5, 0.5],\n",
    "    [2, 10.5],\n",
    "    [5.5, 13],\n",
    "    [3, 1],\n",
    "])\n",
    "\n",
    "targets = np.array([0, 1, 0, 1, 0, 1, 1, 0])\n",
    "\n",
    "makeNet = Net(topo)\n",
    "error = makeNet.train(input_vectors, targets, 5000)\n",
    "\n",
    "plt.plot(error)\n"
   ]
  },
  {
   "cell_type": "code",
   "execution_count": 76,
   "metadata": {},
   "outputs": [
    {
     "data": {
      "text/plain": [
       "array([[0.92598533]])"
      ]
     },
     "execution_count": 76,
     "metadata": {},
     "output_type": "execute_result"
    }
   ],
   "source": [
    "makeNet.feedForward([2, 10])"
   ]
  },
  {
   "cell_type": "code",
   "execution_count": null,
   "metadata": {},
   "outputs": [],
   "source": []
  }
 ],
 "metadata": {
  "kernelspec": {
   "display_name": "Python 3",
   "language": "python",
   "name": "python3"
  },
  "language_info": {
   "codemirror_mode": {
    "name": "ipython",
    "version": 3
   },
   "file_extension": ".py",
   "mimetype": "text/x-python",
   "name": "python",
   "nbconvert_exporter": "python",
   "pygments_lexer": "ipython3",
   "version": "3.7.4"
  }
 },
 "nbformat": 4,
 "nbformat_minor": 4
}
